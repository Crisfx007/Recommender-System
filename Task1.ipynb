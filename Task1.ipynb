{
 "cells": [
  {
   "cell_type": "code",
   "execution_count": 1,
   "id": "6a35b6e5",
   "metadata": {},
   "outputs": [],
   "source": [
    "import pandas as pd\n",
    "df = pd.read_csv('retail_data.csv')"
   ]
  },
  {
   "cell_type": "code",
   "execution_count": 2,
   "id": "b6a1b4da",
   "metadata": {},
   "outputs": [
    {
     "data": {
      "text/plain": [
       "Index(['Transaction_ID', 'Customer_ID', 'Name', 'Email', 'Phone', 'Address',\n",
       "       'City', 'State', 'Zipcode', 'Country', 'Age', 'Gender', 'Income',\n",
       "       'Customer_Segment', 'Date', 'Year', 'Month', 'Time', 'Total_Purchases',\n",
       "       'Amount', 'Total_Amount', 'Product_Category', 'Product_Brand',\n",
       "       'Product_Type', 'Feedback', 'Shipping_Method', 'Payment_Method',\n",
       "       'Order_Status', 'Ratings', 'products'],\n",
       "      dtype='object')"
      ]
     },
     "execution_count": 2,
     "metadata": {},
     "output_type": "execute_result"
    }
   ],
   "source": [
    "df.columns"
   ]
  },
  {
   "cell_type": "code",
   "execution_count": 3,
   "id": "660d7024",
   "metadata": {},
   "outputs": [
    {
     "data": {
      "text/plain": [
       "(302010, 30)"
      ]
     },
     "execution_count": 3,
     "metadata": {},
     "output_type": "execute_result"
    }
   ],
   "source": [
    "df.shape"
   ]
  },
  {
   "cell_type": "code",
   "execution_count": 4,
   "id": "42cabe77",
   "metadata": {},
   "outputs": [
    {
     "name": "stdout",
     "output_type": "stream",
     "text": [
      "<class 'pandas.core.frame.DataFrame'>\n",
      "RangeIndex: 302010 entries, 0 to 302009\n",
      "Data columns (total 30 columns):\n",
      " #   Column            Non-Null Count   Dtype  \n",
      "---  ------            --------------   -----  \n",
      " 0   Transaction_ID    301677 non-null  float64\n",
      " 1   Customer_ID       301702 non-null  float64\n",
      " 2   Name              301628 non-null  object \n",
      " 3   Email             301663 non-null  object \n",
      " 4   Phone             301648 non-null  float64\n",
      " 5   Address           301695 non-null  object \n",
      " 6   City              301762 non-null  object \n",
      " 7   State             301729 non-null  object \n",
      " 8   Zipcode           301670 non-null  float64\n",
      " 9   Country           301739 non-null  object \n",
      " 10  Age               301837 non-null  float64\n",
      " 11  Gender            301693 non-null  object \n",
      " 12  Income            301720 non-null  object \n",
      " 13  Customer_Segment  301795 non-null  object \n",
      " 14  Date              301651 non-null  object \n",
      " 15  Year              301660 non-null  float64\n",
      " 16  Month             301737 non-null  object \n",
      " 17  Time              301660 non-null  object \n",
      " 18  Total_Purchases   301649 non-null  float64\n",
      " 19  Amount            301653 non-null  float64\n",
      " 20  Total_Amount      301660 non-null  float64\n",
      " 21  Product_Category  301727 non-null  object \n",
      " 22  Product_Brand     301729 non-null  object \n",
      " 23  Product_Type      302010 non-null  object \n",
      " 24  Feedback          301826 non-null  object \n",
      " 25  Shipping_Method   301673 non-null  object \n",
      " 26  Payment_Method    301713 non-null  object \n",
      " 27  Order_Status      301775 non-null  object \n",
      " 28  Ratings           301826 non-null  float64\n",
      " 29  products          302010 non-null  object \n",
      "dtypes: float64(10), object(20)\n",
      "memory usage: 69.1+ MB\n"
     ]
    }
   ],
   "source": [
    "df.info()"
   ]
  },
  {
   "cell_type": "code",
   "execution_count": 5,
   "id": "e75f98b0",
   "metadata": {},
   "outputs": [
    {
     "data": {
      "text/plain": [
       "4"
      ]
     },
     "execution_count": 5,
     "metadata": {},
     "output_type": "execute_result"
    }
   ],
   "source": [
    "df.duplicated().sum()"
   ]
  },
  {
   "cell_type": "code",
   "execution_count": 6,
   "id": "84ff137c",
   "metadata": {},
   "outputs": [
    {
     "name": "stdout",
     "output_type": "stream",
     "text": [
      "After removing exact duplicates: (302006, 30)\n"
     ]
    }
   ],
   "source": [
    "df = df.drop_duplicates()\n",
    "\n",
    "print(\"After removing exact duplicates:\", df.shape)\n"
   ]
  },
  {
   "cell_type": "code",
   "execution_count": 15,
   "id": "66a77306",
   "metadata": {},
   "outputs": [],
   "source": [
    "df = df.drop('Transaction_ID',axis=1)"
   ]
  },
  {
   "cell_type": "code",
   "execution_count": 16,
   "id": "17ea55dd",
   "metadata": {},
   "outputs": [
    {
     "data": {
      "text/plain": [
       "Index(['Customer_ID', 'Name', 'Email', 'Phone', 'Address', 'City', 'State',\n",
       "       'Zipcode', 'Country', 'Age', 'Gender', 'Income', 'Customer_Segment',\n",
       "       'Date', 'Year', 'Month', 'Time', 'Total_Purchases', 'Amount',\n",
       "       'Total_Amount', 'Product_Category', 'Product_Brand', 'Product_Type',\n",
       "       'Feedback', 'Shipping_Method', 'Payment_Method', 'Order_Status',\n",
       "       'Ratings', 'products'],\n",
       "      dtype='object')"
      ]
     },
     "execution_count": 16,
     "metadata": {},
     "output_type": "execute_result"
    }
   ],
   "source": [
    "df.columns"
   ]
  },
  {
   "cell_type": "code",
   "execution_count": 17,
   "id": "b0b396ff",
   "metadata": {},
   "outputs": [
    {
     "name": "stdout",
     "output_type": "stream",
     "text": [
      "<class 'pandas.core.frame.DataFrame'>\n",
      "Index: 302006 entries, 0 to 302009\n",
      "Data columns (total 29 columns):\n",
      " #   Column            Non-Null Count   Dtype  \n",
      "---  ------            --------------   -----  \n",
      " 0   Customer_ID       301698 non-null  float64\n",
      " 1   Name              301624 non-null  object \n",
      " 2   Email             301659 non-null  object \n",
      " 3   Phone             301644 non-null  float64\n",
      " 4   Address           301691 non-null  object \n",
      " 5   City              301758 non-null  object \n",
      " 6   State             301725 non-null  object \n",
      " 7   Zipcode           301666 non-null  float64\n",
      " 8   Country           301735 non-null  object \n",
      " 9   Age               301833 non-null  float64\n",
      " 10  Gender            301689 non-null  object \n",
      " 11  Income            301716 non-null  object \n",
      " 12  Customer_Segment  301791 non-null  object \n",
      " 13  Date              301647 non-null  object \n",
      " 14  Year              301656 non-null  float64\n",
      " 15  Month             301733 non-null  object \n",
      " 16  Time              301656 non-null  object \n",
      " 17  Total_Purchases   301645 non-null  float64\n",
      " 18  Amount            301650 non-null  float64\n",
      " 19  Total_Amount      301656 non-null  float64\n",
      " 20  Product_Category  301723 non-null  object \n",
      " 21  Product_Brand     301725 non-null  object \n",
      " 22  Product_Type      302006 non-null  object \n",
      " 23  Feedback          301822 non-null  object \n",
      " 24  Shipping_Method   301669 non-null  object \n",
      " 25  Payment_Method    301709 non-null  object \n",
      " 26  Order_Status      301771 non-null  object \n",
      " 27  Ratings           301822 non-null  float64\n",
      " 28  products          302006 non-null  object \n",
      "dtypes: float64(9), object(20)\n",
      "memory usage: 69.1+ MB\n"
     ]
    }
   ],
   "source": [
    "df.info()"
   ]
  },
  {
   "cell_type": "code",
   "execution_count": 18,
   "id": "74802bd6",
   "metadata": {},
   "outputs": [
    {
     "name": "stdout",
     "output_type": "stream",
     "text": [
      "Null summary for all columns:\n",
      "                  null_count  null_pct\n",
      "Name                     382    0.1265\n",
      "Phone                    362    0.1199\n",
      "Total_Purchases          361    0.1195\n",
      "Date                     359    0.1189\n",
      "Amount                   356    0.1179\n",
      "Year                     350    0.1159\n",
      "Total_Amount             350    0.1159\n",
      "Time                     350    0.1159\n",
      "Email                    347    0.1149\n",
      "Zipcode                  340    0.1126\n",
      "Shipping_Method          337    0.1116\n",
      "Gender                   317    0.1050\n",
      "Address                  315    0.1043\n",
      "Customer_ID              308    0.1020\n",
      "Payment_Method           297    0.0983\n",
      "Income                   290    0.0960\n",
      "Product_Category         283    0.0937\n",
      "State                    281    0.0930\n",
      "Product_Brand            281    0.0930\n",
      "Month                    273    0.0904\n",
      "Country                  271    0.0897\n",
      "City                     248    0.0821\n",
      "Order_Status             235    0.0778\n",
      "Customer_Segment         215    0.0712\n",
      "Feedback                 184    0.0609\n",
      "Ratings                  184    0.0609\n",
      "Age                      173    0.0573\n",
      "Product_Type               0    0.0000\n",
      "products                   0    0.0000\n"
     ]
    }
   ],
   "source": [
    "# Null summary for all columns\n",
    "null_all = df.isnull().sum().sort_values(ascending=False)\n",
    "null_all_pct = (null_all / len(df) * 100).round(4)\n",
    "\n",
    "null_df_all = pd.concat([null_all, null_all_pct], axis=1)\n",
    "null_df_all.columns = ['null_count', 'null_pct']\n",
    "\n",
    "print(\"Null summary for all columns:\")\n",
    "print(null_df_all)\n"
   ]
  },
  {
   "cell_type": "code",
   "execution_count": 61,
   "id": "10af14dd",
   "metadata": {},
   "outputs": [],
   "source": [
    "df_clean = df.dropna().copy()"
   ]
  },
  {
   "cell_type": "code",
   "execution_count": 62,
   "id": "ea1890cd",
   "metadata": {},
   "outputs": [
    {
     "data": {
      "text/plain": [
       "(294230, 29)"
      ]
     },
     "execution_count": 62,
     "metadata": {},
     "output_type": "execute_result"
    }
   ],
   "source": [
    "df_clean.shape"
   ]
  },
  {
   "cell_type": "code",
   "execution_count": 63,
   "id": "f00128fb",
   "metadata": {},
   "outputs": [
    {
     "data": {
      "text/plain": [
       "0"
      ]
     },
     "execution_count": 63,
     "metadata": {},
     "output_type": "execute_result"
    }
   ],
   "source": [
    "\n",
    "df_clean.isnull().sum().sum()"
   ]
  },
  {
   "cell_type": "code",
   "execution_count": 64,
   "id": "11341fc5",
   "metadata": {},
   "outputs": [
    {
     "name": "stdout",
     "output_type": "stream",
     "text": [
      "Int64\n"
     ]
    }
   ],
   "source": [
    "df_clean['Customer_ID'] = df_clean['Customer_ID'].astype('Int64')\n",
    "print(df_clean['Customer_ID'].dtype)"
   ]
  },
  {
   "cell_type": "code",
   "execution_count": 65,
   "id": "a50193c2",
   "metadata": {},
   "outputs": [
    {
     "name": "stdout",
     "output_type": "stream",
     "text": [
      "0      9/18/2023\n",
      "1     12/31/2023\n",
      "2      4/26/2023\n",
      "3       05-08-23\n",
      "4       01-10-24\n",
      "5      9/21/2023\n",
      "6      6/26/2023\n",
      "7      3/24/2023\n",
      "8       01-06-24\n",
      "9       10-04-23\n",
      "10     7/20/2023\n",
      "11     6/21/2023\n",
      "12      01-02-24\n",
      "13      05-07-23\n",
      "14    11/18/2023\n",
      "15     6/15/2023\n",
      "16      07-01-23\n",
      "17     4/14/2023\n",
      "18      02-07-24\n",
      "19    10/24/2023\n",
      "Name: Date, dtype: object\n"
     ]
    }
   ],
   "source": [
    "print(df_clean['Date'].head(20))"
   ]
  },
  {
   "cell_type": "code",
   "execution_count": null,
   "id": "d4634765",
   "metadata": {},
   "outputs": [
    {
     "name": "stdout",
     "output_type": "stream",
     "text": [
      "0    2023-09-18\n",
      "1    2023-12-31\n",
      "2    2023-04-26\n",
      "3    2023-05-08\n",
      "4    2024-01-10\n",
      "5    2023-09-21\n",
      "6    2023-06-26\n",
      "7    2023-03-24\n",
      "8    2024-01-06\n",
      "9    2023-10-04\n",
      "10   2023-07-20\n",
      "11   2023-06-21\n",
      "12   2024-01-02\n",
      "13   2023-05-07\n",
      "14   2023-11-18\n",
      "15   2023-06-15\n",
      "16   2023-07-01\n",
      "17   2023-04-14\n",
      "18   2024-02-07\n",
      "19   2023-10-24\n",
      "Name: Date, dtype: datetime64[ns]\n",
      "Total NaT after parsing: 0\n"
     ]
    }
   ],
   "source": [
    "from datetime import datetime\n",
    "\n",
    "def parse_mdy(date_str):\n",
    "    date_str = str(date_str).replace('-', '/').strip()\n",
    "    for fmt in (\"%m/%d/%Y\", \"%m/%d/%y\"):  # first 4-digit, then 2-digit\n",
    "        try:\n",
    "            return datetime.strptime(date_str, fmt)\n",
    "        except:\n",
    "            continue\n",
    "    return pd.NaT\n",
    "\n",
    "df_clean['Date'] = df_clean['Date'].apply(parse_mdy)\n",
    "\n",
    "print(df_clean['Date'].head(20))\n",
    "print(\"Total NaT after parsing:\", df_clean['Date'].isna().sum())\n"
   ]
  },
  {
   "cell_type": "code",
   "execution_count": null,
   "id": "d8230cc9",
   "metadata": {},
   "outputs": [
    {
     "name": "stdout",
     "output_type": "stream",
     "text": [
      "Number of mismatches: 0\n"
     ]
    }
   ],
   "source": [
    "\n",
    "mismatch = df_clean[df_clean['Year'].notna() & (df_clean['Year'] != df_clean['Date'].dt.year)]\n",
    "print(\"Number of mismatches:\", mismatch.shape[0])\n"
   ]
  },
  {
   "cell_type": "code",
   "execution_count": 68,
   "id": "8ea2f314",
   "metadata": {},
   "outputs": [],
   "source": [
    "df_clean['Year'] = df_clean['Year'].astype('Int64')"
   ]
  },
  {
   "cell_type": "code",
   "execution_count": 69,
   "id": "81ce1b87",
   "metadata": {},
   "outputs": [
    {
     "data": {
      "text/plain": [
       "Int64Dtype()"
      ]
     },
     "execution_count": 69,
     "metadata": {},
     "output_type": "execute_result"
    }
   ],
   "source": [
    "df_clean['Year'].dtype"
   ]
  },
  {
   "cell_type": "code",
   "execution_count": null,
   "id": "e68da42a",
   "metadata": {},
   "outputs": [
    {
     "name": "stdout",
     "output_type": "stream",
     "text": [
      "        Date      Month  Month_Category\n",
      "0 2023-09-18  September               9\n",
      "1 2023-12-31   December              12\n",
      "2 2023-04-26      April               4\n",
      "3 2023-05-08        May               5\n",
      "4 2024-01-10    January               1\n",
      "5 2023-09-21  September               9\n",
      "6 2023-06-26       June               6\n",
      "7 2023-03-24      March               3\n",
      "8 2024-01-06    January               1\n",
      "9 2023-10-04    October              10\n"
     ]
    }
   ],
   "source": [
    "\n",
    "df_clean['Month_Category'] = df_clean['Date'].dt.month.astype('Int64')\n",
    "\n",
    "print(df_clean[['Date', 'Month', 'Month_Category']].head(10))\n"
   ]
  },
  {
   "cell_type": "code",
   "execution_count": null,
   "id": "e1edcc70",
   "metadata": {},
   "outputs": [
    {
     "name": "stderr",
     "output_type": "stream",
     "text": [
      "C:\\Users\\Vikrant Yadav\\AppData\\Local\\Temp\\ipykernel_31852\\83867323.py:2: UserWarning: Could not infer format, so each element will be parsed individually, falling back to `dateutil`. To ensure parsing is consistent and as-expected, please specify a format.\n",
      "  df_clean['Time'] = pd.to_datetime(df_clean['Time'], errors='coerce').dt.time\n"
     ]
    },
    {
     "name": "stdout",
     "output_type": "stream",
     "text": [
      "0    22:03:55\n",
      "1    08:42:04\n",
      "2    04:06:29\n",
      "3    14:55:17\n",
      "4    16:54:07\n",
      "5    23:24:27\n",
      "6    13:35:51\n",
      "7    10:12:56\n",
      "8    14:38:26\n",
      "9    22:27:40\n",
      "Name: Time, dtype: object\n",
      "Total NaT after parsing: 0\n"
     ]
    }
   ],
   "source": [
    "\n",
    "df_clean['Time'] = pd.to_datetime(df_clean['Time'], errors='coerce').dt.time"
   ]
  },
  {
   "cell_type": "code",
   "execution_count": 81,
   "id": "432faeba",
   "metadata": {},
   "outputs": [
    {
     "name": "stdout",
     "output_type": "stream",
     "text": [
      "<class 'pandas.core.frame.DataFrame'>\n",
      "Index: 294230 entries, 0 to 302009\n",
      "Data columns (total 30 columns):\n",
      " #   Column            Non-Null Count   Dtype         \n",
      "---  ------            --------------   -----         \n",
      " 0   Customer_ID       294230 non-null  Int64         \n",
      " 1   Name              294230 non-null  object        \n",
      " 2   Email             294230 non-null  object        \n",
      " 3   Phone             294230 non-null  float64       \n",
      " 4   Address           294230 non-null  object        \n",
      " 5   City              294230 non-null  object        \n",
      " 6   State             294230 non-null  object        \n",
      " 7   Zipcode           294230 non-null  float64       \n",
      " 8   Country           294230 non-null  object        \n",
      " 9   Age               294230 non-null  float64       \n",
      " 10  Gender            294230 non-null  object        \n",
      " 11  Income            294230 non-null  object        \n",
      " 12  Customer_Segment  294230 non-null  object        \n",
      " 13  Date              294230 non-null  datetime64[ns]\n",
      " 14  Year              294230 non-null  Int64         \n",
      " 15  Month             294230 non-null  object        \n",
      " 16  Time              294230 non-null  object        \n",
      " 17  Total_Purchases   294230 non-null  float64       \n",
      " 18  Amount            294230 non-null  float64       \n",
      " 19  Total_Amount      294230 non-null  float64       \n",
      " 20  Product_Category  294230 non-null  object        \n",
      " 21  Product_Brand     294230 non-null  object        \n",
      " 22  Product_Type      294230 non-null  object        \n",
      " 23  Feedback          294230 non-null  object        \n",
      " 24  Shipping_Method   294230 non-null  object        \n",
      " 25  Payment_Method    294230 non-null  object        \n",
      " 26  Order_Status      294230 non-null  object        \n",
      " 27  Ratings           294230 non-null  float64       \n",
      " 28  products          294230 non-null  object        \n",
      " 29  Month_Category    294230 non-null  Int64         \n",
      "dtypes: Int64(3), datetime64[ns](1), float64(7), object(19)\n",
      "memory usage: 70.4+ MB\n"
     ]
    }
   ],
   "source": [
    "df_clean.info()"
   ]
  },
  {
   "cell_type": "code",
   "execution_count": 91,
   "id": "af8af304",
   "metadata": {},
   "outputs": [
    {
     "data": {
      "text/html": [
       "<div>\n",
       "<style scoped>\n",
       "    .dataframe tbody tr th:only-of-type {\n",
       "        vertical-align: middle;\n",
       "    }\n",
       "\n",
       "    .dataframe tbody tr th {\n",
       "        vertical-align: top;\n",
       "    }\n",
       "\n",
       "    .dataframe thead th {\n",
       "        text-align: right;\n",
       "    }\n",
       "</style>\n",
       "<table border=\"1\" class=\"dataframe\">\n",
       "  <thead>\n",
       "    <tr style=\"text-align: right;\">\n",
       "      <th></th>\n",
       "      <th>Amount</th>\n",
       "      <th>Total_Amount</th>\n",
       "      <th>Total_Purchases</th>\n",
       "      <th>products</th>\n",
       "      <th>Date</th>\n",
       "    </tr>\n",
       "  </thead>\n",
       "  <tbody>\n",
       "    <tr>\n",
       "      <th>0</th>\n",
       "      <td>108.028757</td>\n",
       "      <td>324.086270</td>\n",
       "      <td>3.0</td>\n",
       "      <td>Cycling shorts</td>\n",
       "      <td>2023-09-18</td>\n",
       "    </tr>\n",
       "    <tr>\n",
       "      <th>1</th>\n",
       "      <td>403.353907</td>\n",
       "      <td>806.707815</td>\n",
       "      <td>2.0</td>\n",
       "      <td>Lenovo Tab</td>\n",
       "      <td>2023-12-31</td>\n",
       "    </tr>\n",
       "    <tr>\n",
       "      <th>2</th>\n",
       "      <td>354.477600</td>\n",
       "      <td>1063.432799</td>\n",
       "      <td>3.0</td>\n",
       "      <td>Sports equipment</td>\n",
       "      <td>2023-04-26</td>\n",
       "    </tr>\n",
       "    <tr>\n",
       "      <th>3</th>\n",
       "      <td>352.407717</td>\n",
       "      <td>2466.854021</td>\n",
       "      <td>7.0</td>\n",
       "      <td>Utility knife</td>\n",
       "      <td>2023-05-08</td>\n",
       "    </tr>\n",
       "    <tr>\n",
       "      <th>4</th>\n",
       "      <td>124.276524</td>\n",
       "      <td>248.553049</td>\n",
       "      <td>2.0</td>\n",
       "      <td>Chocolate cookies</td>\n",
       "      <td>2024-01-10</td>\n",
       "    </tr>\n",
       "    <tr>\n",
       "      <th>...</th>\n",
       "      <td>...</td>\n",
       "      <td>...</td>\n",
       "      <td>...</td>\n",
       "      <td>...</td>\n",
       "      <td>...</td>\n",
       "    </tr>\n",
       "    <tr>\n",
       "      <th>302005</th>\n",
       "      <td>194.792597</td>\n",
       "      <td>973.962984</td>\n",
       "      <td>5.0</td>\n",
       "      <td>Historical fiction</td>\n",
       "      <td>2024-01-20</td>\n",
       "    </tr>\n",
       "    <tr>\n",
       "      <th>302006</th>\n",
       "      <td>285.137301</td>\n",
       "      <td>285.137301</td>\n",
       "      <td>1.0</td>\n",
       "      <td>LG Gram</td>\n",
       "      <td>2023-12-28</td>\n",
       "    </tr>\n",
       "    <tr>\n",
       "      <th>302007</th>\n",
       "      <td>60.701761</td>\n",
       "      <td>182.105285</td>\n",
       "      <td>3.0</td>\n",
       "      <td>Parka</td>\n",
       "      <td>2024-02-27</td>\n",
       "    </tr>\n",
       "    <tr>\n",
       "      <th>302008</th>\n",
       "      <td>120.834784</td>\n",
       "      <td>120.834784</td>\n",
       "      <td>1.0</td>\n",
       "      <td>TV stand</td>\n",
       "      <td>2023-09-03</td>\n",
       "    </tr>\n",
       "    <tr>\n",
       "      <th>302009</th>\n",
       "      <td>340.319059</td>\n",
       "      <td>2382.233417</td>\n",
       "      <td>7.0</td>\n",
       "      <td>Clocks</td>\n",
       "      <td>2024-01-08</td>\n",
       "    </tr>\n",
       "  </tbody>\n",
       "</table>\n",
       "<p>294230 rows × 5 columns</p>\n",
       "</div>"
      ],
      "text/plain": [
       "            Amount  Total_Amount  Total_Purchases            products  \\\n",
       "0       108.028757    324.086270              3.0      Cycling shorts   \n",
       "1       403.353907    806.707815              2.0          Lenovo Tab   \n",
       "2       354.477600   1063.432799              3.0    Sports equipment   \n",
       "3       352.407717   2466.854021              7.0       Utility knife   \n",
       "4       124.276524    248.553049              2.0   Chocolate cookies   \n",
       "...            ...           ...              ...                 ...   \n",
       "302005  194.792597    973.962984              5.0  Historical fiction   \n",
       "302006  285.137301    285.137301              1.0             LG Gram   \n",
       "302007   60.701761    182.105285              3.0               Parka   \n",
       "302008  120.834784    120.834784              1.0            TV stand   \n",
       "302009  340.319059   2382.233417              7.0              Clocks   \n",
       "\n",
       "             Date  \n",
       "0      2023-09-18  \n",
       "1      2023-12-31  \n",
       "2      2023-04-26  \n",
       "3      2023-05-08  \n",
       "4      2024-01-10  \n",
       "...           ...  \n",
       "302005 2024-01-20  \n",
       "302006 2023-12-28  \n",
       "302007 2024-02-27  \n",
       "302008 2023-09-03  \n",
       "302009 2024-01-08  \n",
       "\n",
       "[294230 rows x 5 columns]"
      ]
     },
     "execution_count": 91,
     "metadata": {},
     "output_type": "execute_result"
    }
   ],
   "source": [
    "df_clean[['Amount','Total_Amount','Total_Purchases','products','Date']]"
   ]
  },
  {
   "cell_type": "code",
   "execution_count": 93,
   "id": "735583ac",
   "metadata": {},
   "outputs": [
    {
     "data": {
      "text/plain": [
       "Timestamp('2023-03-01 00:00:00')"
      ]
     },
     "execution_count": 93,
     "metadata": {},
     "output_type": "execute_result"
    }
   ],
   "source": [
    "df_clean['Date'].min()"
   ]
  },
  {
   "cell_type": "code",
   "execution_count": null,
   "id": "02c4c1d8",
   "metadata": {},
   "outputs": [
    {
     "name": "stdout",
     "output_type": "stream",
     "text": [
      "Top 5 most purchased products in the last 30 days:\n",
      "products\n",
      "spring water      1242.0\n",
      "adventure         1224.0\n",
      "bottled water     1162.0\n",
      "coconut water     1103.0\n",
      "flavored water    1085.0\n",
      "Name: Total_Purchases, dtype: float64\n"
     ]
    }
   ],
   "source": [
    "from datetime import timedelta\n",
    "\n",
    "max_date = df_clean['Date'].max()\n",
    "\n",
    "last_30_days = max_date - timedelta(days=30)\n",
    "\n",
    "recent_df = df_clean[df_clean['Date'] >= last_30_days]\n",
    "\n",
    "recent_df.loc[:,'products'] = recent_df['products'].astype(str).str.strip().str.lower()\n",
    "\n",
    "top_5_products = (\n",
    "    recent_df.groupby('products')['Total_Purchases']\n",
    "    .sum()\n",
    "    .sort_values(ascending=False)\n",
    "    .head(5)\n",
    ")\n",
    "\n",
    "print(\"Top 5 most purchased products in the last 30 days:\")\n",
    "print(top_5_products)\n"
   ]
  },
  {
   "cell_type": "code",
   "execution_count": 95,
   "id": "e3415316",
   "metadata": {},
   "outputs": [
    {
     "name": "stdout",
     "output_type": "stream",
     "text": [
      "Cleaned dataframe saved as 'cleaned_transactions.csv'\n"
     ]
    }
   ],
   "source": [
    "# Save cleaned dataframe to CSV\n",
    "df_clean.to_csv('cleaned_transactions.csv', index=False)\n",
    "print(\"Cleaned dataframe saved as 'cleaned_transactions.csv'\")\n"
   ]
  },
  {
   "cell_type": "markdown",
   "id": "a1b6da86",
   "metadata": {},
   "source": [
    "### Task 1 using SQL Queries\n",
    "1. Identify\tthe\ttop\t5\tmost\tpurchased\tproducts\tin\tthe\tlast\t30\tdays.\n",
    "2. Find\tcustomers\twho\tpurchased\tmore\tthan\t3\ttimes\tin\tthe\tlast\tweek.\n",
    "3. Calculate\tthe\taverage\torder\tvalue"
   ]
  },
  {
   "cell_type": "markdown",
   "id": "740c0445",
   "metadata": {},
   "source": [
    "### SQL: Top 5 Most Purchased Products (Last 30 Days)\n",
    "\n",
    "```sql\n",
    "WITH max_date AS (\n",
    "  SELECT MAX(Date) AS max_dt\n",
    "  FROM `opvia-assignment.RetailData.Opvia`\n",
    ")\n",
    "SELECT \n",
    "  t.products,\n",
    "  SUM(t.Total_Purchases) AS total_units_sold\n",
    "FROM `opvia-assignment.RetailData.Opvia` t\n",
    "CROSS JOIN max_date m\n",
    "WHERE t.Date >= DATE_SUB(m.max_dt, INTERVAL 30 DAY)\n",
    "GROUP BY t.products\n",
    "ORDER BY total_units_sold DESC\n",
    "LIMIT 5;"
   ]
  },
  {
   "cell_type": "markdown",
   "id": "5a3d8f07",
   "metadata": {},
   "source": [
    "### Results: Top 5 Most Purchased Products (Last 30 Days)\n",
    "\n",
    "| Row | Products       | Total Units Sold |\n",
    "|-----|----------------|------------------|\n",
    "| 1   | Spring water   | 1242.0           |\n",
    "| 2   | Adventure      | 1224.0           |\n",
    "| 3   | Bottled water  | 1162.0           |\n",
    "| 4   | Coconut water  | 1103.0           |\n",
    "| 5   | Flavored water | 1085.0           |\n"
   ]
  },
  {
   "cell_type": "code",
   "execution_count": null,
   "id": "7ef56a5c",
   "metadata": {},
   "outputs": [
    {
     "data": {
      "text/html": [
       "<div>\n",
       "<style scoped>\n",
       "    .dataframe tbody tr th:only-of-type {\n",
       "        vertical-align: middle;\n",
       "    }\n",
       "\n",
       "    .dataframe tbody tr th {\n",
       "        vertical-align: top;\n",
       "    }\n",
       "\n",
       "    .dataframe thead th {\n",
       "        text-align: right;\n",
       "    }\n",
       "</style>\n",
       "<table border=\"1\" class=\"dataframe\">\n",
       "  <thead>\n",
       "    <tr style=\"text-align: right;\">\n",
       "      <th></th>\n",
       "      <th>Customer_ID</th>\n",
       "      <th>transactions</th>\n",
       "    </tr>\n",
       "  </thead>\n",
       "  <tbody>\n",
       "    <tr>\n",
       "      <th>595</th>\n",
       "      <td>28449</td>\n",
       "      <td>3</td>\n",
       "    </tr>\n",
       "    <tr>\n",
       "      <th>17</th>\n",
       "      <td>10460</td>\n",
       "      <td>2</td>\n",
       "    </tr>\n",
       "    <tr>\n",
       "      <th>2442</th>\n",
       "      <td>77994</td>\n",
       "      <td>2</td>\n",
       "    </tr>\n",
       "    <tr>\n",
       "      <th>2259</th>\n",
       "      <td>73885</td>\n",
       "      <td>2</td>\n",
       "    </tr>\n",
       "    <tr>\n",
       "      <th>2235</th>\n",
       "      <td>73238</td>\n",
       "      <td>2</td>\n",
       "    </tr>\n",
       "    <tr>\n",
       "      <th>...</th>\n",
       "      <td>...</td>\n",
       "      <td>...</td>\n",
       "    </tr>\n",
       "    <tr>\n",
       "      <th>977</th>\n",
       "      <td>38596</td>\n",
       "      <td>2</td>\n",
       "    </tr>\n",
       "    <tr>\n",
       "      <th>934</th>\n",
       "      <td>37466</td>\n",
       "      <td>2</td>\n",
       "    </tr>\n",
       "    <tr>\n",
       "      <th>917</th>\n",
       "      <td>36936</td>\n",
       "      <td>2</td>\n",
       "    </tr>\n",
       "    <tr>\n",
       "      <th>897</th>\n",
       "      <td>36358</td>\n",
       "      <td>2</td>\n",
       "    </tr>\n",
       "    <tr>\n",
       "      <th>3227</th>\n",
       "      <td>99922</td>\n",
       "      <td>2</td>\n",
       "    </tr>\n",
       "  </tbody>\n",
       "</table>\n",
       "<p>103 rows × 2 columns</p>\n",
       "</div>"
      ],
      "text/plain": [
       "      Customer_ID  transactions\n",
       "595         28449             3\n",
       "17          10460             2\n",
       "2442        77994             2\n",
       "2259        73885             2\n",
       "2235        73238             2\n",
       "...           ...           ...\n",
       "977         38596             2\n",
       "934         37466             2\n",
       "917         36936             2\n",
       "897         36358             2\n",
       "3227        99922             2\n",
       "\n",
       "[103 rows x 2 columns]"
      ]
     },
     "execution_count": 111,
     "metadata": {},
     "output_type": "execute_result"
    }
   ],
   "source": [
    "\n",
    "last_date = df_clean[\"Date\"].max()\n",
    "week_start = last_date - pd.to_timedelta(last_date.weekday(), unit=\"D\")\n",
    "\n",
    "# filter last week data\n",
    "last_week_df = df_clean[(df_clean[\"Date\"] >= week_start) & \n",
    "                        (df_clean[\"Date\"] <= week_start + pd.Timedelta(days=6))]\n",
    "\n",
    "# group by customer and count transactions\n",
    "result = (last_week_df.groupby(\"Customer_ID\")\n",
    "          .size()\n",
    "          .reset_index(name=\"transactions\")\n",
    "          .query(\"transactions > 1\")\n",
    "          .sort_values(\"transactions\", ascending=False))\n",
    "\n",
    "result\n"
   ]
  },
  {
   "cell_type": "markdown",
   "id": "1e2310c0",
   "metadata": {},
   "source": [
    "### SQL Query – Customers with More Than 3 Transactions in the Last Week\n",
    "\n",
    "```sql\n",
    "WITH max_week AS (\n",
    "  SELECT DATE_TRUNC(MAX(Date), WEEK(MONDAY)) AS week_start\n",
    "  FROM `opvia-assignment.RetailData.Opvia`\n",
    ")\n",
    "SELECT \n",
    "  Customer_ID,\n",
    "  COUNT(*) AS transactions\n",
    "FROM `opvia-assignment.RetailData.Opvia` t\n",
    "JOIN max_week m\n",
    "  ON t.Date BETWEEN m.week_start AND DATE_ADD(m.week_start, INTERVAL 6 DAY)\n",
    "GROUP BY Customer_ID\n",
    "HAVING COUNT(*) > 3\n",
    "ORDER BY transactions DESC;\n"
   ]
  },
  {
   "cell_type": "code",
   "execution_count": 113,
   "id": "5d981077",
   "metadata": {},
   "outputs": [
    {
     "name": "stdout",
     "output_type": "stream",
     "text": [
      "       Customer_ID  avg_order_value\n",
      "37553        49043      4996.826615\n",
      "49272        61255      4967.714518\n",
      "69403        82257      4963.954451\n",
      "13406        23974      4962.794399\n",
      "25146        36160      4961.260092\n"
     ]
    }
   ],
   "source": [
    "aov = (df_clean.groupby('Customer_ID')['Total_Amount']\n",
    "       .mean()\n",
    "       .reset_index(name='avg_order_value')\n",
    "       .sort_values('avg_order_value', ascending=False))\n",
    "\n",
    "print(aov.head())\n"
   ]
  },
  {
   "cell_type": "markdown",
   "id": "cc60e375",
   "metadata": {},
   "source": [
    "### SQL Query – Average Order Value per Customer\n",
    "\n",
    "```sql\n",
    "SELECT \n",
    "  Customer_ID,\n",
    "  SUM(Total_Amount) / COUNT(*) AS avg_order_value\n",
    "FROM `opvia-assignment.RetailData.Opvia`\n",
    "GROUP BY Customer_ID\n",
    "ORDER BY avg_order_value DESC;"
   ]
  },
  {
   "cell_type": "markdown",
   "id": "16f01412",
   "metadata": {},
   "source": [
    "### Customer Segmenation"
   ]
  },
  {
   "cell_type": "code",
   "execution_count": 120,
   "id": "eb6a1c9b",
   "metadata": {},
   "outputs": [],
   "source": [
    "recency = df_clean.groupby('Customer_ID')['Date'].max().reset_index()\n",
    "recency['Recency'] = (max_date - recency['Date']).dt.days\n",
    "recency = recency[['Customer_ID', 'Recency']]\n"
   ]
  },
  {
   "cell_type": "code",
   "execution_count": 121,
   "id": "8bfd4d82",
   "metadata": {},
   "outputs": [],
   "source": [
    "frequency = df_clean.groupby('Customer_ID').size().reset_index(name='Frequency')"
   ]
  },
  {
   "cell_type": "code",
   "execution_count": 122,
   "id": "b1df6b7f",
   "metadata": {},
   "outputs": [],
   "source": [
    "monetary = df_clean.groupby('Customer_ID')['Total_Amount'].sum().reset_index(name='Monetary')"
   ]
  },
  {
   "cell_type": "code",
   "execution_count": 123,
   "id": "61e1aadb",
   "metadata": {},
   "outputs": [
    {
     "data": {
      "text/html": [
       "<div>\n",
       "<style scoped>\n",
       "    .dataframe tbody tr th:only-of-type {\n",
       "        vertical-align: middle;\n",
       "    }\n",
       "\n",
       "    .dataframe tbody tr th {\n",
       "        vertical-align: top;\n",
       "    }\n",
       "\n",
       "    .dataframe thead th {\n",
       "        text-align: right;\n",
       "    }\n",
       "</style>\n",
       "<table border=\"1\" class=\"dataframe\">\n",
       "  <thead>\n",
       "    <tr style=\"text-align: right;\">\n",
       "      <th></th>\n",
       "      <th>Customer_ID</th>\n",
       "      <th>Recency</th>\n",
       "      <th>Frequency</th>\n",
       "      <th>Monetary</th>\n",
       "    </tr>\n",
       "  </thead>\n",
       "  <tbody>\n",
       "    <tr>\n",
       "      <th>0</th>\n",
       "      <td>10000</td>\n",
       "      <td>102</td>\n",
       "      <td>4</td>\n",
       "      <td>5007.566357</td>\n",
       "    </tr>\n",
       "    <tr>\n",
       "      <th>1</th>\n",
       "      <td>10001</td>\n",
       "      <td>104</td>\n",
       "      <td>5</td>\n",
       "      <td>8136.462824</td>\n",
       "    </tr>\n",
       "    <tr>\n",
       "      <th>2</th>\n",
       "      <td>10002</td>\n",
       "      <td>94</td>\n",
       "      <td>5</td>\n",
       "      <td>4104.013951</td>\n",
       "    </tr>\n",
       "    <tr>\n",
       "      <th>3</th>\n",
       "      <td>10003</td>\n",
       "      <td>227</td>\n",
       "      <td>2</td>\n",
       "      <td>2340.496447</td>\n",
       "    </tr>\n",
       "    <tr>\n",
       "      <th>4</th>\n",
       "      <td>10004</td>\n",
       "      <td>30</td>\n",
       "      <td>2</td>\n",
       "      <td>2356.516683</td>\n",
       "    </tr>\n",
       "  </tbody>\n",
       "</table>\n",
       "</div>"
      ],
      "text/plain": [
       "   Customer_ID  Recency  Frequency     Monetary\n",
       "0        10000      102          4  5007.566357\n",
       "1        10001      104          5  8136.462824\n",
       "2        10002       94          5  4104.013951\n",
       "3        10003      227          2  2340.496447\n",
       "4        10004       30          2  2356.516683"
      ]
     },
     "execution_count": 123,
     "metadata": {},
     "output_type": "execute_result"
    }
   ],
   "source": [
    "rfm = recency.merge(frequency, on='Customer_ID').merge(monetary, on='Customer_ID')\n",
    "rfm.head()"
   ]
  },
  {
   "cell_type": "code",
   "execution_count": 133,
   "id": "8bf23e6f",
   "metadata": {},
   "outputs": [],
   "source": [
    "from sklearn.preprocessing import StandardScaler\n",
    "scale = StandardScaler()\n",
    "\n",
    "rfm_features = rfm[['Recency','Frequency','Monetary']]\n",
    "\n",
    "rfm_scaled = scale.fit_transform(rfm_features)"
   ]
  },
  {
   "cell_type": "code",
   "execution_count": 142,
   "id": "30d4df36",
   "metadata": {},
   "outputs": [
    {
     "data": {
      "text/plain": [
       "RFM_Clusters\n",
       "3    24767\n",
       "1    23888\n",
       "2    13544\n",
       "0    12951\n",
       "4    11350\n",
       "Name: count, dtype: int64"
      ]
     },
     "execution_count": 142,
     "metadata": {},
     "output_type": "execute_result"
    }
   ],
   "source": [
    "from sklearn.cluster import KMeans\n",
    "kmeans = KMeans(n_clusters=5,random_state=42)\n",
    "rfm['RFM_Clusters'] = kmeans.fit_predict(rfm_scaled)\n",
    "\n",
    "rfm['RFM_Clusters'].value_counts()"
   ]
  },
  {
   "cell_type": "code",
   "execution_count": 143,
   "id": "e3bf4a27",
   "metadata": {},
   "outputs": [
    {
     "data": {
      "text/html": [
       "<div>\n",
       "<style scoped>\n",
       "    .dataframe tbody tr th:only-of-type {\n",
       "        vertical-align: middle;\n",
       "    }\n",
       "\n",
       "    .dataframe tbody tr th {\n",
       "        vertical-align: top;\n",
       "    }\n",
       "\n",
       "    .dataframe thead th {\n",
       "        text-align: right;\n",
       "    }\n",
       "</style>\n",
       "<table border=\"1\" class=\"dataframe\">\n",
       "  <thead>\n",
       "    <tr style=\"text-align: right;\">\n",
       "      <th></th>\n",
       "      <th>Recency</th>\n",
       "      <th>Frequency</th>\n",
       "      <th>Monetary</th>\n",
       "    </tr>\n",
       "    <tr>\n",
       "      <th>RFM_Clusters</th>\n",
       "      <th></th>\n",
       "      <th></th>\n",
       "      <th></th>\n",
       "    </tr>\n",
       "  </thead>\n",
       "  <tbody>\n",
       "    <tr>\n",
       "      <th>0</th>\n",
       "      <td>155.79</td>\n",
       "      <td>3.44</td>\n",
       "      <td>5233.47</td>\n",
       "    </tr>\n",
       "    <tr>\n",
       "      <th>1</th>\n",
       "      <td>41.04</td>\n",
       "      <td>4.27</td>\n",
       "      <td>5638.33</td>\n",
       "    </tr>\n",
       "    <tr>\n",
       "      <th>2</th>\n",
       "      <td>244.22</td>\n",
       "      <td>1.59</td>\n",
       "      <td>1873.75</td>\n",
       "    </tr>\n",
       "    <tr>\n",
       "      <th>3</th>\n",
       "      <td>63.37</td>\n",
       "      <td>2.22</td>\n",
       "      <td>2341.08</td>\n",
       "    </tr>\n",
       "    <tr>\n",
       "      <th>4</th>\n",
       "      <td>49.34</td>\n",
       "      <td>6.26</td>\n",
       "      <td>10268.85</td>\n",
       "    </tr>\n",
       "  </tbody>\n",
       "</table>\n",
       "</div>"
      ],
      "text/plain": [
       "              Recency  Frequency  Monetary\n",
       "RFM_Clusters                              \n",
       "0              155.79       3.44   5233.47\n",
       "1               41.04       4.27   5638.33\n",
       "2              244.22       1.59   1873.75\n",
       "3               63.37       2.22   2341.08\n",
       "4               49.34       6.26  10268.85"
      ]
     },
     "execution_count": 143,
     "metadata": {},
     "output_type": "execute_result"
    }
   ],
   "source": [
    "# Mean RFM values per cluster\n",
    "rfm.groupby('RFM_Clusters')[['Recency', 'Frequency', 'Monetary']].mean().round(2)"
   ]
  },
  {
   "cell_type": "code",
   "execution_count": 144,
   "id": "aeb99d11",
   "metadata": {},
   "outputs": [
    {
     "data": {
      "image/png": "[encoded data removed]",
      "text/plain": [
       "<Figure size 1000x700 with 1 Axes>"
      ]
     },
     "metadata": {},
     "output_type": "display_data"
    }
   ],
   "source": [
    "import matplotlib.pyplot as plt\n",
    "from mpl_toolkits.mplot3d import Axes3D\n",
    "\n",
    "fig = plt.figure(figsize=(10,7))\n",
    "ax = fig.add_subplot(111, projection='3d')\n",
    "\n",
    "scatter = ax.scatter(\n",
    "    rfm['Recency'], \n",
    "    rfm['Frequency'], \n",
    "    rfm['Monetary'], \n",
    "    c=rfm['RFM_Clusters'], \n",
    "    cmap='Set1', \n",
    "    s=50\n",
    ")\n",
    "\n",
    "ax.set_xlabel('Recency (days)')\n",
    "ax.set_ylabel('Frequency (transactions)')\n",
    "ax.set_zlabel('Monetary ($)')\n",
    "ax.set_title('RFM Customer Segments')\n",
    "plt.legend(*scatter.legend_elements(), title=\"Clusters\")\n",
    "plt.show()"
   ]
  },
  {
   "cell_type": "markdown",
   "id": "d588a766",
   "metadata": {},
   "source": [
    "| Cluster | Recency | Frequency | Monetary  | Interpretation                                                                                                                     |\n",
    "| ------- | ------- | --------- | --------- | ---------------------------------------------------------------------------------------------------------------------------------- |\n",
    "| 0       | 155.79  | 3.44      | 5,233.47  | **Lost / Dormant:** High Recency (long time since last purchase), moderate Frequency & Monetary. Customers may need re-engagement. |\n",
    "| 1       | 41.04   | 4.27      | 5,638.33  | **Active / Loyal:** Low Recency (recently purchased), decent Frequency & Monetary. Good customers to retain.                       |\n",
    "| 2       | 244.22  | 1.59      | 1,873.75  | **At-Risk / Inactive:** Very high Recency, very low Frequency & Monetary. Likely churned or disengaged.                            |\n",
    "| 3       | 63.37   | 2.22      | 2,341.08  | **New / Low-Value:** Moderate Recency, low Frequency & Monetary. New or occasional buyers.                                         |\n",
    "| 4       | 49.34   | 6.26      | 10,268.85 | **Best / VIP:** Low Recency, very high Frequency & Monetary. Most valuable, high-spending customers.                               |\n"
   ]
  },
  {
   "cell_type": "code",
   "execution_count": null,
   "id": "5efe713c",
   "metadata": {},
   "outputs": [],
   "source": []
  }
 ],
 "metadata": {
  "kernelspec": {
   "display_name": "Python 3",
   "language": "python",
   "name": "python3"
  },
  "language_info": {
   "codemirror_mode": {
    "name": "ipython",
    "version": 3
   },
   "file_extension": ".py",
   "mimetype": "text/x-python",
   "name": "python",
   "nbconvert_exporter": "python",
   "pygments_lexer": "ipython3",
   "version": "3.10.0"
  }
 },
 "nbformat": 4,
 "nbformat_minor": 5
}
